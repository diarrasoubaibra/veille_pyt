{
 "cells": [
  {
   "cell_type": "code",
   "execution_count": 8,
   "id": "f7bf5d39",
   "metadata": {},
   "outputs": [],
   "source": [
    "# création et ouverture d'un fichier en mode écriture\n",
    "\n",
    "f = open('fichier.txt', 'w')"
   ]
  },
  {
   "cell_type": "code",
   "execution_count": 9,
   "id": "c0a64aed",
   "metadata": {},
   "outputs": [],
   "source": [
    "# écriture dans un ficher\n",
    "\n",
    "f.write('Bonjour')\n",
    "f.close()"
   ]
  },
  {
   "cell_type": "code",
   "execution_count": 10,
   "id": "eb387900",
   "metadata": {},
   "outputs": [
    {
     "data": {
      "text/plain": [
       "'Bonjour'"
      ]
     },
     "execution_count": 10,
     "metadata": {},
     "output_type": "execute_result"
    }
   ],
   "source": [
    "# ouverture d'un fichier en mode lecture\n",
    "\n",
    "f = open('fichier.txt', 'r')\n",
    "f.read()"
   ]
  },
  {
   "cell_type": "code",
   "execution_count": 11,
   "id": "0ca0e09d",
   "metadata": {},
   "outputs": [
    {
     "name": "stdout",
     "output_type": "stream",
     "text": [
      "Bonjour\n"
     ]
    }
   ],
   "source": [
    "# syntaxe de manipulation d'un ficher\n",
    "\n",
    "with open('fichier.txt', 'r') as f:\n",
    "    print(f.read())"
   ]
  },
  {
   "cell_type": "code",
   "execution_count": 16,
   "id": "eedc2e4b",
   "metadata": {},
   "outputs": [],
   "source": [
    "with open('fichier.txt', 'w') as f:\n",
    "    for i in range(10):\n",
    "        f.write('{}^2 = {} \\n'.format(i, i**2))"
   ]
  },
  {
   "cell_type": "code",
   "execution_count": 3,
   "id": "20ceb329",
   "metadata": {},
   "outputs": [
    {
     "ename": "SyntaxError",
     "evalue": "(unicode error) 'unicodeescape' codec can't decode bytes in position 2-3: truncated \\UXXXXXXXX escape (2469747663.py, line 3)",
     "output_type": "error",
     "traceback": [
      "\u001b[1;36m  File \u001b[1;32m\"C:\\Users\\SIMPLON\\AppData\\Local\\Temp\\ipykernel_10492\\2469747663.py\"\u001b[1;36m, line \u001b[1;32m3\u001b[0m\n\u001b[1;33m    f1 = open(\"C:\\Users\\SIMPLON\\fichier.txt\", \"r\")\u001b[0m\n\u001b[1;37m                                            ^\u001b[0m\n\u001b[1;31mSyntaxError\u001b[0m\u001b[1;31m:\u001b[0m (unicode error) 'unicodeescape' codec can't decode bytes in position 2-3: truncated \\UXXXXXXXX escape\n"
     ]
    }
   ],
   "source": [
    "# ouvrir un ficher à un emplacement\n",
    "\n",
    "f1 = open(\"C:\\Users\\SIMPLON\\fichier.txt\", \"r\")\n",
    "#print(f1.read())"
   ]
  },
  {
   "cell_type": "code",
   "execution_count": 4,
   "id": "b5b56e47",
   "metadata": {},
   "outputs": [
    {
     "ename": "ModuleNotFoundError",
     "evalue": "No module named 'tp_v'",
     "output_type": "error",
     "traceback": [
      "\u001b[1;31m---------------------------------------------------------------------------\u001b[0m",
      "\u001b[1;31mModuleNotFoundError\u001b[0m                       Traceback (most recent call last)",
      "\u001b[1;32m~\\AppData\\Local\\Temp\\ipykernel_10492\\30757985.py\u001b[0m in \u001b[0;36m<module>\u001b[1;34m\u001b[0m\n\u001b[1;32m----> 1\u001b[1;33m \u001b[1;32mimport\u001b[0m \u001b[0mtp_v\u001b[0m\u001b[1;33m\u001b[0m\u001b[1;33m\u001b[0m\u001b[0m\n\u001b[0m",
      "\u001b[1;31mModuleNotFoundError\u001b[0m: No module named 'tp_v'"
     ]
    }
   ],
   "source": [
    "import tp_v"
   ]
  }
 ],
 "metadata": {
  "kernelspec": {
   "display_name": "Python 3 (ipykernel)",
   "language": "python",
   "name": "python3"
  },
  "language_info": {
   "codemirror_mode": {
    "name": "ipython",
    "version": 3
   },
   "file_extension": ".py",
   "mimetype": "text/x-python",
   "name": "python",
   "nbconvert_exporter": "python",
   "pygments_lexer": "ipython3",
   "version": "3.9.13"
  }
 },
 "nbformat": 4,
 "nbformat_minor": 5
}
