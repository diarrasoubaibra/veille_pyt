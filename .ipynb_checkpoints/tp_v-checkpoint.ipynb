{
 "cells": [
  {
   "cell_type": "code",
   "execution_count": 1,
   "id": "b2ad44a4",
   "metadata": {},
   "outputs": [],
   "source": [
    "###les variables"
   ]
  },
  {
   "cell_type": "code",
   "execution_count": 8,
   "id": "872020c4",
   "metadata": {
    "scrolled": true
   },
   "outputs": [
    {
     "name": "stdout",
     "output_type": "stream",
     "text": [
      "la valuer de x est :  5\n",
      "la valuer de y est :  cloud\n",
      "le type de x est :  <class 'int'>\n",
      "le type de y est :  <class 'str'>\n"
     ]
    }
   ],
   "source": [
    "x = 5 # déclaration d'une variable de type int\n",
    "y = \"cloud\" # déclaration d'une variable de type str\n",
    "print('la valuer de x est : ',x) # Afficharge de la valeur d'une variable\n",
    "print('la valuer de y est : ',y)\n",
    "print('le type de x est : ',type(x)) # Affichage du type des variable\n",
    "print('le type de y est : ',type(y))"
   ]
  },
  {
   "cell_type": "code",
   "execution_count": 9,
   "id": "3bce3c56",
   "metadata": {},
   "outputs": [
    {
     "name": "stdout",
     "output_type": "stream",
     "text": [
      "la valuer de x est :  cloud\n",
      "la valuer de y est :  5\n",
      "le type de x est :  <class 'str'>\n",
      "le type de y est :  <class 'int'>\n"
     ]
    }
   ],
   "source": [
    "x, y = 'cloud', 5\n",
    "\n",
    "print('la valuer de x est : ',x)\n",
    "print('la valuer de y est : ',y)\n",
    "print('le type de x est : ',type(x)) # Affichage du type des variable\n",
    "print('le type de y est : ',type(y))"
   ]
  },
  {
   "cell_type": "code",
   "execution_count": 10,
   "id": "239fd661",
   "metadata": {},
   "outputs": [],
   "source": [
    "## les listes "
   ]
  },
  {
   "cell_type": "code",
   "execution_count": 18,
   "id": "e7a29a5c",
   "metadata": {},
   "outputs": [
    {
     "name": "stdout",
     "output_type": "stream",
     "text": [
      "['apple', 'banana', 'cherry', 4, 2.5]\n"
     ]
    }
   ],
   "source": [
    "# déclaration d'une liste\n",
    "\n",
    "list_1 = [\"apple\", \"banana\", \"cherry\", 4, 2.5]\n",
    "print(list_1)"
   ]
  },
  {
   "cell_type": "code",
   "execution_count": 22,
   "id": "0c3a1956",
   "metadata": {},
   "outputs": [
    {
     "name": "stdout",
     "output_type": "stream",
     "text": [
      "banana\n",
      "2.5\n",
      "['banana', 'cherry', 4]\n",
      "['apple', 'banana', 'cherry']\n",
      "['cherry', 4, 2.5]\n",
      "['cherry', 4]\n"
     ]
    }
   ],
   "source": [
    "# acces aux elementsd'une liste\n",
    "print(list_1[1]) # renvoie le 2ème element de la list\n",
    "print(list_1[-1])# renvoie le dèrnier element de la list\n",
    "print(list_1[1:4]) # renvoie le 2ème, 3eme et 4eme element de la list\n",
    "print(list_1[:3]) # renvoie tous les elements du début de la liste jusqu'au 3eme\n",
    "print(list_1[2:]) # renvoie tous les elements du 3eme de la liste jusqu'à la fin\n",
    "print(list_1[-3:-1])"
   ]
  },
  {
   "cell_type": "code",
   "execution_count": 30,
   "id": "b64efacb",
   "metadata": {},
   "outputs": [
    {
     "name": "stdout",
     "output_type": "stream",
     "text": [
      "['apple', 'banana', 'cherry', 35, 2.5, 'ananas', 'ananas', 'ananas', 'ananas', 'ananas', 'ananas', 'ananas', 'ananas']\n"
     ]
    }
   ],
   "source": [
    "# mannipulation d'une liste\n",
    "list_1.append(\"ananas\") # ajout d'un element à la fin de la liste\n",
    "print(list_1)"
   ]
  },
  {
   "cell_type": "code",
   "execution_count": 31,
   "id": "c210999b",
   "metadata": {},
   "outputs": [],
   "source": [
    "list_1[3] = 35 \n",
    "list_1[1:3] = [\"blackcurrant\", \"watermelon\"] # remplace le 2eme et 3eme element de la liste par ces nouveaux elements\n",
    "list_1[1:2] = [\"blackcurrant\", \"watermelon\"] # remplace le deuxième element deux nouvelles valeurs"
   ]
  },
  {
   "cell_type": "code",
   "execution_count": 32,
   "id": "99edc7c7",
   "metadata": {},
   "outputs": [],
   "source": [
    "# insertion dans une liste\n",
    "list_1.insert(2, \"citron\") # insert citron comme 3eme element de la liste"
   ]
  },
  {
   "cell_type": "code",
   "execution_count": 33,
   "id": "2de582af",
   "metadata": {},
   "outputs": [],
   "source": [
    "# suppression des elements d'une liste\n",
    "#list_1.remove(\"ananas\") # supprime l'element ananas de la liste\n",
    "#list_1.pop(6) # suppreime l'element qui a pour index 6 dde la liste\n",
    "#list_1.pop() # supprime le dernier element de la liste\n",
    "#del list_1[0] # supprime egalement l'element à l'index precisé, dans notre cas le 1er element\n",
    "# \"del list_1 \" supprime completemnt la liste\n",
    "# \"list_1.clear()\" vide la liste"
   ]
  },
  {
   "cell_type": "code",
   "execution_count": 34,
   "id": "efc6c148",
   "metadata": {},
   "outputs": [],
   "source": [
    "## Les tuples"
   ]
  },
  {
   "cell_type": "code",
   "execution_count": 36,
   "id": "5df1550f",
   "metadata": {},
   "outputs": [
    {
     "name": "stdout",
     "output_type": "stream",
     "text": [
      "('apple', 'banana', 'cherry', '3')\n"
     ]
    }
   ],
   "source": [
    "# créer un tuple\n",
    "tuple_1 = (\"apple\", \"banana\", \"cherry\", \"3\")\n",
    "print(tuple_1)"
   ]
  },
  {
   "cell_type": "code",
   "execution_count": 38,
   "id": "02f4cc65",
   "metadata": {},
   "outputs": [
    {
     "name": "stdout",
     "output_type": "stream",
     "text": [
      "4\n"
     ]
    }
   ],
   "source": [
    "# Connaitre la longueur d'un tuple\n",
    "\n",
    "print(len(tuple_1))"
   ]
  },
  {
   "cell_type": "code",
   "execution_count": 40,
   "id": "b9153b40",
   "metadata": {},
   "outputs": [
    {
     "name": "stdout",
     "output_type": "stream",
     "text": [
      "banana\n"
     ]
    }
   ],
   "source": [
    "# acces aux tuples\n",
    "print(tuple_1[1]) # on accède aux tuples de la même manière qu'aux listes."
   ]
  },
  {
   "cell_type": "code",
   "execution_count": 43,
   "id": "3b7613ac",
   "metadata": {},
   "outputs": [
    {
     "name": "stdout",
     "output_type": "stream",
     "text": [
      "('apple', 'banana', 'cherry', '3', 2, 4, 3, 'ananas')\n"
     ]
    }
   ],
   "source": [
    "# joidre deux tuples\n",
    "\n",
    "tuple_2 = (2, 4, 3, \"ananas\")\n",
    "tuple_3 = tuple_1 + tuple_2\n",
    "print(tuple_3)"
   ]
  },
  {
   "cell_type": "code",
   "execution_count": 45,
   "id": "a80f4dc1",
   "metadata": {},
   "outputs": [
    {
     "name": "stdout",
     "output_type": "stream",
     "text": [
      "(2, 4, 3, 'ananas', 2, 4, 3, 'ananas')\n"
     ]
    }
   ],
   "source": [
    "# multiplier les tuples\n",
    "\n",
    "tuplex = tuple_2*2\n",
    "print(tuplex)"
   ]
  },
  {
   "cell_type": "code",
   "execution_count": 46,
   "id": "a2f09ce4",
   "metadata": {},
   "outputs": [],
   "source": [
    "## les dictionnaires"
   ]
  },
  {
   "cell_type": "code",
   "execution_count": 47,
   "id": "57c24e0b",
   "metadata": {},
   "outputs": [
    {
     "name": "stdout",
     "output_type": "stream",
     "text": [
      "{'Nom': 'zakoua', 'Prenom': 'mathurin', 'Age': 35}\n"
     ]
    }
   ],
   "source": [
    "# création d'un dictionnaire\n",
    "\n",
    "mondict = {\n",
    "  \"Nom\": \"zakoua\",\n",
    "  \"Prenom\": \"mathurin\",\n",
    "  \"Age\": 35\n",
    "}\n",
    "print(mondict)"
   ]
  },
  {
   "cell_type": "code",
   "execution_count": 82,
   "id": "15ed8738",
   "metadata": {},
   "outputs": [
    {
     "name": "stdout",
     "output_type": "stream",
     "text": [
      "{'nom': 'John', 'age': 36, 'prenom': 'nagato'}\n"
     ]
    }
   ],
   "source": [
    "# creation de dictionnaire avec le constructeur dict\n",
    "\n",
    "dico = dict(nom = \"John\", age = 36, prenom = \"nagato\")\n",
    "print(dico)"
   ]
  },
  {
   "cell_type": "code",
   "execution_count": 87,
   "id": "03254210",
   "metadata": {},
   "outputs": [
    {
     "name": "stdout",
     "output_type": "stream",
     "text": [
      "{'nom': 'John', 'age': 36, 'prenom': 'nagato'}\n"
     ]
    }
   ],
   "source": [
    "# faire une Copie un dictionnaire\n",
    "dic = dico.copy()\n",
    "dic_1 = dict(dic)\n",
    "print(dic_1)"
   ]
  },
  {
   "cell_type": "code",
   "execution_count": 63,
   "id": "7e91af2d",
   "metadata": {},
   "outputs": [],
   "source": [
    "# un dictionnaire peut contenir une liste\n",
    "\n",
    "mondict = {\n",
    "  \"Nom\": \"zakoua\",\n",
    "  \"Prenom\": \"mathurin\",\n",
    "  \"Age\": 35,\n",
    "  \"langue\": [\"Français\", \"Anglais\", \"Arabe\"]\n",
    "}\n"
   ]
  },
  {
   "cell_type": "code",
   "execution_count": 57,
   "id": "745e5e63",
   "metadata": {},
   "outputs": [
    {
     "name": "stdout",
     "output_type": "stream",
     "text": [
      "zakoua\n",
      "mathurin\n"
     ]
    }
   ],
   "source": [
    "# acces aux éléments d'un dictionnaire\n",
    "\n",
    "nom = mondict[\"Nom\"] # permet d'obtenir la valeur de la clé \"nom\"\n",
    "prenom = mondict.get(\"Prenom\")\n",
    "print(nom)\n",
    "print(prenom)"
   ]
  },
  {
   "cell_type": "code",
   "execution_count": 71,
   "id": "c81f0c7e",
   "metadata": {},
   "outputs": [],
   "source": [
    "# obtenir les clés et les valeurs d'un dict\n",
    "\n",
    "mesCles = mondict.keys() # permet d'obtenir toutes les clés du dictionnaire\n",
    "mesValeurs = mondict.values() # pour obtenir les valeurs\n",
    "# print(mesValeurs)\n",
    "maListe = mondict.items() # liste les paires clé-valeurs dans une liste de tuple"
   ]
  },
  {
   "cell_type": "code",
   "execution_count": 65,
   "id": "a2247462",
   "metadata": {},
   "outputs": [
    {
     "name": "stdout",
     "output_type": "stream",
     "text": [
      "{'Nom': 'zakoua', 'Prenom': 'mathurin', 'Age': 30, 'langue': ['Français', 'Anglais', 'Arabe'], 'Taille': 1.8}\n"
     ]
    }
   ],
   "source": [
    "# ajouter un nouveau élément au dictionnaire\n",
    "\n",
    "mondict[\"Taille\"] = 1.80\n",
    "print(mondict)"
   ]
  },
  {
   "cell_type": "code",
   "execution_count": 81,
   "id": "c954b21d",
   "metadata": {},
   "outputs": [
    {
     "name": "stdout",
     "output_type": "stream",
     "text": [
      "{'Nom': 'zakoua', 'Prenom': 'mathurin', 'Age': 30, 'Taille': 1.75}\n"
     ]
    }
   ],
   "source": [
    "# modifier un élément du dictionnaire\n",
    "\n",
    "mondict[\"Age\"] = 30\n",
    "mondict.update({\"Taille\":1.75}) # permet de mettre à jour \n",
    "print(mondict)"
   ]
  },
  {
   "cell_type": "code",
   "execution_count": 89,
   "id": "1987b2bb",
   "metadata": {},
   "outputs": [],
   "source": [
    "# suppression dans un dictionnaire\n",
    "\n",
    "#supp_cle = mondict.pop(\"langue\") # le methode pop supprime un élément à l'aide du nom de sa clé\n",
    "#supp_last = mondict.popitem() # supprime le dernier élément inseré"
   ]
  },
  {
   "cell_type": "code",
   "execution_count": null,
   "id": "08625148",
   "metadata": {},
   "outputs": [],
   "source": [
    "## Les fonctions"
   ]
  },
  {
   "cell_type": "code",
   "execution_count": 106,
   "id": "2de0428a",
   "metadata": {},
   "outputs": [],
   "source": [
    "# création d'une fonction\n",
    "\n",
    "def my_function(n,m):\n",
    "    return (n*m)"
   ]
  },
  {
   "cell_type": "code",
   "execution_count": 107,
   "id": "9b9fc7d5",
   "metadata": {},
   "outputs": [
    {
     "data": {
      "text/plain": [
       "20"
      ]
     },
     "execution_count": 107,
     "metadata": {},
     "output_type": "execute_result"
    }
   ],
   "source": [
    "my_function(10,2)"
   ]
  },
  {
   "cell_type": "code",
   "execution_count": 104,
   "id": "a74fe1d2",
   "metadata": {},
   "outputs": [],
   "source": [
    "## les fichers"
   ]
  },
  {
   "cell_type": "code",
   "execution_count": 108,
   "id": "f0aa9d72",
   "metadata": {},
   "outputs": [],
   "source": [
    "# ouvrir un ficher en lecture, c'est la valeur par defaut des fichers\n",
    "\n",
    "f = open(\"fichier.txt\")\n",
    "f = open(\"fichier.txt\", \"rt\")"
   ]
  },
  {
   "cell_type": "code",
   "execution_count": 109,
   "id": "fa00f983",
   "metadata": {},
   "outputs": [],
   "source": [
    "## Les conditions"
   ]
  },
  {
   "cell_type": "code",
   "execution_count": 110,
   "id": "354d620d",
   "metadata": {},
   "outputs": [
    {
     "name": "stdout",
     "output_type": "stream",
     "text": [
      "b est supérieur à a\n"
     ]
    }
   ],
   "source": [
    "# une condition simple\n",
    "\n",
    "a = 33\n",
    "b = 200\n",
    "if b > a:\n",
    "    print(\"b est supérieur à a\")"
   ]
  },
  {
   "cell_type": "code",
   "execution_count": 111,
   "id": "be8c0168",
   "metadata": {},
   "outputs": [
    {
     "name": "stdout",
     "output_type": "stream",
     "text": [
      "a est égal à b\n"
     ]
    }
   ],
   "source": [
    "a = 33\n",
    "b = 33\n",
    "if b > a:\n",
    "  print(\"b est plus grnad que a\")\n",
    "elif a == b:\n",
    "  print(\"a est égal à b\")"
   ]
  },
  {
   "cell_type": "code",
   "execution_count": 112,
   "id": "b444cdd5",
   "metadata": {},
   "outputs": [
    {
     "name": "stdout",
     "output_type": "stream",
     "text": [
      "a est plus grnad que b\n"
     ]
    }
   ],
   "source": [
    "a = 200\n",
    "b = 33\n",
    "if b > a:\n",
    "  print(\"b est plus grnad que a\")\n",
    "elif a == b:\n",
    "  print(\"a est égal à b\")\n",
    "else:\n",
    "  print(\"a est plus grnad que b\")"
   ]
  },
  {
   "cell_type": "code",
   "execution_count": 113,
   "id": "45d1b19d",
   "metadata": {},
   "outputs": [
    {
     "name": "stdout",
     "output_type": "stream",
     "text": [
      "=\n"
     ]
    }
   ],
   "source": [
    "# condition avec des opérateurs tainaires \n",
    "\n",
    "a = 330\n",
    "b = 330\n",
    "print(\"A\") if a > b else print(\"=\") if a == b else print(\"B\")"
   ]
  },
  {
   "cell_type": "code",
   "execution_count": 115,
   "id": "a1f8c711",
   "metadata": {},
   "outputs": [
    {
     "name": "stdout",
     "output_type": "stream",
     "text": [
      "Les deux conditions sont vraies\n"
     ]
    }
   ],
   "source": [
    "# utilisation de l'opérateur de logique \"and\"\n",
    "\n",
    "a = 200\n",
    "b = 33\n",
    "c = 500\n",
    "if a > b and c > a:\n",
    "  print(\"Les deux conditions sont vraies\")\n",
    "else:\n",
    "    print(\"Les deux conditions ne sont pas vraies\")"
   ]
  },
  {
   "cell_type": "code",
   "execution_count": 117,
   "id": "d8004a42",
   "metadata": {},
   "outputs": [
    {
     "name": "stdout",
     "output_type": "stream",
     "text": [
      "au moins une des deux conditions est vraie\n"
     ]
    }
   ],
   "source": [
    "# utilisation de l'opérateur de logique \"or\"\n",
    "\n",
    "a = 200\n",
    "b = 33\n",
    "c = 500\n",
    "if a > b or a > c:\n",
    "  print(\"Au moins une des deux conditions est vraie\")"
   ]
  },
  {
   "cell_type": "code",
   "execution_count": 118,
   "id": "6610fe60",
   "metadata": {},
   "outputs": [
    {
     "name": "stdout",
     "output_type": "stream",
     "text": [
      "b est supérieur à a\n"
     ]
    }
   ],
   "source": [
    "# utilisation de l'opérateur de logique \"NOT\"\n",
    "\n",
    "a = 33\n",
    "b = 200\n",
    "if not a > b:\n",
    "    print(\"b est supérieur à a\")"
   ]
  },
  {
   "cell_type": "code",
   "execution_count": 121,
   "id": "36cec4c9",
   "metadata": {},
   "outputs": [
    {
     "name": "stdout",
     "output_type": "stream",
     "text": [
      "Supérieur à 10\n",
      "également supérieur à 20!\n"
     ]
    }
   ],
   "source": [
    "# conditions imbriquées\n",
    "\n",
    "x = 41\n",
    "\n",
    "if x > 10:\n",
    "  print(\"Supérieur à 10\")\n",
    "  if x > 20:\n",
    "    print(\"également supérieur à 20!\")\n",
    "  else:\n",
    "    print(\"Mais passupérieur à 20.\")"
   ]
  },
  {
   "cell_type": "code",
   "execution_count": 124,
   "id": "2c7507f1",
   "metadata": {},
   "outputs": [],
   "source": [
    "## Les boucles"
   ]
  },
  {
   "cell_type": "code",
   "execution_count": 125,
   "id": "37626831",
   "metadata": {},
   "outputs": [
    {
     "name": "stdout",
     "output_type": "stream",
     "text": [
      "1\n",
      "2\n",
      "3\n",
      "4\n",
      "5\n",
      "6\n",
      "7\n",
      "8\n",
      "9\n"
     ]
    }
   ],
   "source": [
    "# La boucle while\n",
    "# cette boucle va afficher i en incrémantant de 1 à chaque iteration tant qu'il sera inférieur à 10 \n",
    "i = 1\n",
    "while i < 10:\n",
    "  print(i)\n",
    "  i += 1"
   ]
  },
  {
   "cell_type": "code",
   "execution_count": 126,
   "id": "4edc480d",
   "metadata": {},
   "outputs": [
    {
     "name": "stdout",
     "output_type": "stream",
     "text": [
      "1\n",
      "2\n",
      "3\n"
     ]
    }
   ],
   "source": [
    "# Arrêter la boucle même si la condition est toujours vraie à l'aide de 'breack'\n",
    "\n",
    "i = 1\n",
    "while i < 6:\n",
    "  print(i)\n",
    "  if i == 3:\n",
    "    break\n",
    "  i += 1"
   ]
  },
  {
   "cell_type": "code",
   "execution_count": 127,
   "id": "d1ac7f07",
   "metadata": {},
   "outputs": [
    {
     "name": "stdout",
     "output_type": "stream",
     "text": [
      "1\n",
      "2\n",
      "4\n",
      "5\n",
      "6\n"
     ]
    }
   ],
   "source": [
    "# Arrêter l'itération en cours et continuer avec la suivante à l'aide de 'continue'\n",
    "\n",
    "i = 0\n",
    "while i < 6:\n",
    "  i += 1\n",
    "  if i == 3:\n",
    "    continue\n",
    "  print(i)"
   ]
  },
  {
   "cell_type": "code",
   "execution_count": 128,
   "id": "3efe68c2",
   "metadata": {},
   "outputs": [],
   "source": [
    "## Boucle for"
   ]
  },
  {
   "cell_type": "code",
   "execution_count": 129,
   "id": "2e4d40bb",
   "metadata": {},
   "outputs": [
    {
     "name": "stdout",
     "output_type": "stream",
     "text": [
      "apple\n",
      "banana\n",
      "cherry\n"
     ]
    }
   ],
   "source": [
    "# afficher chaque élément d'une liste\n",
    "\n",
    "fruits = [\"apple\", \"banana\", \"cherry\"]\n",
    "for x in fruits:\n",
    "  print(x)"
   ]
  },
  {
   "cell_type": "code",
   "execution_count": 130,
   "id": "2d5725a6",
   "metadata": {},
   "outputs": [
    {
     "name": "stdout",
     "output_type": "stream",
     "text": [
      "b\n",
      "a\n",
      "n\n",
      "a\n",
      "n\n",
      "a\n"
     ]
    }
   ],
   "source": [
    "# Parcourir une chaine de caractère\n",
    "\n",
    "for x in \"banana\":\n",
    "  print(x)"
   ]
  },
  {
   "cell_type": "code",
   "execution_count": 131,
   "id": "64d46523",
   "metadata": {},
   "outputs": [
    {
     "name": "stdout",
     "output_type": "stream",
     "text": [
      "0\n",
      "1\n",
      "2\n",
      "3\n",
      "4\n",
      "5\n"
     ]
    }
   ],
   "source": [
    "#La fonction range() renvoie une séquence de nombres, \n",
    "#commençant par 0 par défaut, et incrémentée de 1 (par défaut), et se termine à un nombre spécifié.\n",
    "\n",
    "for x in range(6):\n",
    "  print(x) # Affiche les nombres de 0 à 5"
   ]
  },
  {
   "cell_type": "code",
   "execution_count": 132,
   "id": "35f972ce",
   "metadata": {},
   "outputs": [
    {
     "name": "stdout",
     "output_type": "stream",
     "text": [
      "2\n",
      "3\n",
      "4\n",
      "5\n"
     ]
    }
   ],
   "source": [
    "# cette boucle affiche les nombres allant de 2 à 6 mais n'inclus pas 6\n",
    "for x in range(2, 6):\n",
    "  print(x)"
   ]
  },
  {
   "cell_type": "code",
   "execution_count": 133,
   "id": "4c186b62",
   "metadata": {},
   "outputs": [
    {
     "name": "stdout",
     "output_type": "stream",
     "text": [
      "2\n",
      "4\n",
      "6\n",
      "8\n",
      "10\n",
      "12\n",
      "14\n",
      "16\n",
      "18\n"
     ]
    }
   ],
   "source": [
    "# changement de l'incrémentation. le 3eme paramettre est l'incrémentation\n",
    "\n",
    "for x in range(2, 20, 2):\n",
    "  print(x)"
   ]
  },
  {
   "cell_type": "code",
   "execution_count": 135,
   "id": "44259b97",
   "metadata": {},
   "outputs": [
    {
     "name": "stdout",
     "output_type": "stream",
     "text": [
      "vert : apple\n",
      "vert : banana\n",
      "vert : cherry\n",
      "jaune : apple\n",
      "jaune : banana\n",
      "jaune : cherry\n",
      "rouge : apple\n",
      "rouge : banana\n",
      "rouge : cherry\n"
     ]
    }
   ],
   "source": [
    "# boucle imbriquées\n",
    "\n",
    "couleurs = [\"vert\", \"jaune\", \"rouge\"]\n",
    "fruits = [\"apple\", \"banana\", \"cherry\"]\n",
    "\n",
    "for x in couleurs:\n",
    "  for y in fruits:\n",
    "    print(x,':', y)"
   ]
  },
  {
   "cell_type": "code",
   "execution_count": 123,
   "id": "78dcbad2",
   "metadata": {},
   "outputs": [
    {
     "name": "stdout",
     "output_type": "stream",
     "text": [
      "0\n",
      "1\n",
      "2\n"
     ]
    }
   ],
   "source": [
    "# sortir de la boucle avant sa fin à l'aide du mot clé \"break\"\n",
    "\n",
    "for x in range(6):\n",
    "  if x == 3: break\n",
    "  print(x)\n",
    "else:\n",
    "  print(\"terminé!\")"
   ]
  },
  {
   "cell_type": "code",
   "execution_count": null,
   "id": "183e8012",
   "metadata": {},
   "outputs": [],
   "source": []
  }
 ],
 "metadata": {
  "kernelspec": {
   "display_name": "Python 3 (ipykernel)",
   "language": "python",
   "name": "python3"
  },
  "language_info": {
   "codemirror_mode": {
    "name": "ipython",
    "version": 3
   },
   "file_extension": ".py",
   "mimetype": "text/x-python",
   "name": "python",
   "nbconvert_exporter": "python",
   "pygments_lexer": "ipython3",
   "version": "3.9.13"
  }
 },
 "nbformat": 4,
 "nbformat_minor": 5
}
